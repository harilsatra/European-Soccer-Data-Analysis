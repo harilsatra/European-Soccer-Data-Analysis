{
 "cells": [
  {
   "cell_type": "markdown",
   "metadata": {},
   "source": [
    "### European Soccer Data Analysis.\n",
    "\n",
    "#### Data Source: https://www.kaggle.com/hugomathien/soccer"
   ]
  },
  {
   "cell_type": "markdown",
   "metadata": {},
   "source": [
    "#### First we need to import and load the package *dplyr*"
   ]
  },
  {
   "cell_type": "code",
   "execution_count": 40,
   "metadata": {
    "collapsed": false
   },
   "outputs": [
    {
     "name": "stderr",
     "output_type": "stream",
     "text": [
      "Installing package into 'C:/Users/Haril Satra/Documents/R/win-library/3.3'\n",
      "(as 'lib' is unspecified)\n",
      "Warning message:\n",
      "\"package 'dplyr' is in use and will not be installed\""
     ]
    }
   ],
   "source": [
    "install.packages(\"dplyr\", repos=\"https://cran.r-project.org\")"
   ]
  },
  {
   "cell_type": "code",
   "execution_count": 41,
   "metadata": {
    "collapsed": false
   },
   "outputs": [],
   "source": [
    "library(dplyr)"
   ]
  },
  {
   "cell_type": "markdown",
   "metadata": {},
   "source": [
    "#### Connect to the sqlite database using the function src_sqlite"
   ]
  },
  {
   "cell_type": "code",
   "execution_count": 42,
   "metadata": {
    "collapsed": true
   },
   "outputs": [],
   "source": [
    "eu_soccer <- src_sqlite(\"database.sqlite\", create = T)"
   ]
  },
  {
   "cell_type": "markdown",
   "metadata": {},
   "source": [
    "#### Cache all the tables of the database in a standard location"
   ]
  },
  {
   "cell_type": "code",
   "execution_count": 43,
   "metadata": {
    "collapsed": true
   },
   "outputs": [],
   "source": [
    "LeagueSQL <- tbl(eu_soccer, sql(\"SELECT * FROM League\"))\n",
    "CountrySQL <- tbl(eu_soccer, sql(\"SELECT * FROM Country\"))\n",
    "MatchSQL <- tbl(eu_soccer, sql(\"SELECT * FROM Match\"))\n",
    "PlayerSQL <- tbl(eu_soccer, sql(\"SELECT * FROM Player\"))\n",
    "Player_AttributesSQL <- tbl(eu_soccer, sql(\"SELECT * FROM Player_Attributes\"))\n",
    "TeamSQL <- tbl(eu_soccer, sql(\"SELECT * FROM Team\"))\n",
    "Team_AttributesSQL <- tbl(eu_soccer, sql(\"SELECT * FROM Team_Attributes\"))"
   ]
  },
  {
   "cell_type": "markdown",
   "metadata": {},
   "source": [
    "#### Pull down all the above results using the function *collect()*  which will return a tbl_df() of the corresponding input"
   ]
  },
  {
   "cell_type": "code",
   "execution_count": 44,
   "metadata": {
    "collapsed": true
   },
   "outputs": [],
   "source": [
    "LeagueDF <- collect(LeagueSQL, n=Inf)\n",
    "CountryDF <- collect(CountrySQL, n=Inf)\n",
    "MatchDF <- collect(MatchSQL, n=Inf)\n",
    "PlayerDF <- collect(PlayerSQL, n=Inf)\n",
    "Player_AttributesDF <- collect(Player_AttributesSQL, n=Inf)\n",
    "TeamDF <- collect(TeamSQL, n=Inf)\n",
    "Team_AttributesDF <- collect(Team_AttributesSQL, n=Inf)"
   ]
  },
  {
   "cell_type": "markdown",
   "metadata": {},
   "source": [
    "#### Merge the 'player' and 'player_attributes' table with only the columns that we need"
   ]
  },
  {
   "cell_type": "code",
   "execution_count": 45,
   "metadata": {
    "collapsed": true
   },
   "outputs": [],
   "source": [
    "PlayerMerge = merge(PlayerDF[,c(\"player_api_id\",\"player_name\")],Player_AttributesDF[,c(\"player_api_id\",\"player_fifa_api_id\",\"overall_rating\",\"gk_diving\", \"gk_handling\", \"gk_kicking\", \"gk_positioning\",\"gk_reflexes\")],by=\"player_api_id\")"
   ]
  },
  {
   "cell_type": "code",
   "execution_count": 46,
   "metadata": {
    "collapsed": false
   },
   "outputs": [
    {
     "data": {
      "text/html": [
       "<table>\n",
       "<thead><tr><th scope=col>player_api_id</th><th scope=col>player_name</th><th scope=col>player_fifa_api_id</th><th scope=col>overall_rating</th><th scope=col>gk_diving</th><th scope=col>gk_handling</th><th scope=col>gk_kicking</th><th scope=col>gk_positioning</th><th scope=col>gk_reflexes</th></tr></thead>\n",
       "<tbody>\n",
       "\t<tr><td>2625             </td><td>Patryk Rachwal,18</td><td>148544           </td><td>61               </td><td>12               </td><td>11               </td><td>6                </td><td>8                </td><td>8                </td></tr>\n",
       "\t<tr><td>2625             </td><td>Patryk Rachwal,18</td><td>148544           </td><td>61               </td><td>12               </td><td>11               </td><td>6                </td><td>8                </td><td>8                </td></tr>\n",
       "\t<tr><td>2625             </td><td>Patryk Rachwal,18</td><td>148544           </td><td>61               </td><td>12               </td><td>11               </td><td>6                </td><td>8                </td><td>8                </td></tr>\n",
       "\t<tr><td>2625             </td><td>Patryk Rachwal,18</td><td>148544           </td><td>61               </td><td>12               </td><td>11               </td><td>6                </td><td>8                </td><td>8                </td></tr>\n",
       "\t<tr><td>2625             </td><td>Patryk Rachwal,18</td><td>148544           </td><td>61               </td><td>12               </td><td>11               </td><td>6                </td><td>8                </td><td>8                </td></tr>\n",
       "\t<tr><td>2625             </td><td>Patryk Rachwal,18</td><td>148544           </td><td>58               </td><td>12               </td><td>11               </td><td>6                </td><td>8                </td><td>8                </td></tr>\n",
       "</tbody>\n",
       "</table>\n"
      ],
      "text/latex": [
       "\\begin{tabular}{r|lllllllll}\n",
       " player\\_api\\_id & player\\_name & player\\_fifa\\_api\\_id & overall\\_rating & gk\\_diving & gk\\_handling & gk\\_kicking & gk\\_positioning & gk\\_reflexes\\\\\n",
       "\\hline\n",
       "\t 2625              & Patryk Rachwal,18 & 148544            & 61                & 12                & 11                & 6                 & 8                 & 8                \\\\\n",
       "\t 2625              & Patryk Rachwal,18 & 148544            & 61                & 12                & 11                & 6                 & 8                 & 8                \\\\\n",
       "\t 2625              & Patryk Rachwal,18 & 148544            & 61                & 12                & 11                & 6                 & 8                 & 8                \\\\\n",
       "\t 2625              & Patryk Rachwal,18 & 148544            & 61                & 12                & 11                & 6                 & 8                 & 8                \\\\\n",
       "\t 2625              & Patryk Rachwal,18 & 148544            & 61                & 12                & 11                & 6                 & 8                 & 8                \\\\\n",
       "\t 2625              & Patryk Rachwal,18 & 148544            & 58                & 12                & 11                & 6                 & 8                 & 8                \\\\\n",
       "\\end{tabular}\n"
      ],
      "text/markdown": [
       "\n",
       "player_api_id | player_name | player_fifa_api_id | overall_rating | gk_diving | gk_handling | gk_kicking | gk_positioning | gk_reflexes | \n",
       "|---|---|---|---|---|---|\n",
       "| 2625              | Patryk Rachwal,18 | 148544            | 61                | 12                | 11                | 6                 | 8                 | 8                 | \n",
       "| 2625              | Patryk Rachwal,18 | 148544            | 61                | 12                | 11                | 6                 | 8                 | 8                 | \n",
       "| 2625              | Patryk Rachwal,18 | 148544            | 61                | 12                | 11                | 6                 | 8                 | 8                 | \n",
       "| 2625              | Patryk Rachwal,18 | 148544            | 61                | 12                | 11                | 6                 | 8                 | 8                 | \n",
       "| 2625              | Patryk Rachwal,18 | 148544            | 61                | 12                | 11                | 6                 | 8                 | 8                 | \n",
       "| 2625              | Patryk Rachwal,18 | 148544            | 58                | 12                | 11                | 6                 | 8                 | 8                 | \n",
       "\n",
       "\n"
      ],
      "text/plain": [
       "  player_api_id player_name       player_fifa_api_id overall_rating gk_diving\n",
       "1 2625          Patryk Rachwal,18 148544             61             12       \n",
       "2 2625          Patryk Rachwal,18 148544             61             12       \n",
       "3 2625          Patryk Rachwal,18 148544             61             12       \n",
       "4 2625          Patryk Rachwal,18 148544             61             12       \n",
       "5 2625          Patryk Rachwal,18 148544             61             12       \n",
       "6 2625          Patryk Rachwal,18 148544             58             12       \n",
       "  gk_handling gk_kicking gk_positioning gk_reflexes\n",
       "1 11          6          8              8          \n",
       "2 11          6          8              8          \n",
       "3 11          6          8              8          \n",
       "4 11          6          8              8          \n",
       "5 11          6          8              8          \n",
       "6 11          6          8              8          "
      ]
     },
     "metadata": {},
     "output_type": "display_data"
    }
   ],
   "source": [
    "head(PlayerMerge)"
   ]
  },
  {
   "cell_type": "markdown",
   "metadata": {},
   "source": [
    "#### Summing up all the gk_attribute columns into one single column *gk_overall* which will represent the *Overall rating of the goalkeeper* using the mutate function."
   ]
  },
  {
   "cell_type": "code",
   "execution_count": 47,
   "metadata": {
    "collapsed": true
   },
   "outputs": [],
   "source": [
    "PlayerMerge <- mutate(PlayerMerge,gk_overall = gk_diving+gk_handling+gk_kicking+gk_positioning+gk_reflexes)"
   ]
  },
  {
   "cell_type": "markdown",
   "metadata": {},
   "source": [
    "#### Removing all the columns which are not needed now like all the gk_attributes except the gk_overall columns"
   ]
  },
  {
   "cell_type": "code",
   "execution_count": 48,
   "metadata": {
    "collapsed": true
   },
   "outputs": [],
   "source": [
    "PlayerMerge$gk_diving <- NULL\n",
    "PlayerMerge$gk_handling <- NULL\n",
    "PlayerMerge$gk_kicking <- NULL\n",
    "PlayerMerge$gk_positioning <- NULL\n",
    "PlayerMerge$gk_reflexes <- NULL"
   ]
  },
  {
   "cell_type": "markdown",
   "metadata": {},
   "source": [
    "#### Removing all the columns where either the overall_rating or the gk_overall is NA"
   ]
  },
  {
   "cell_type": "code",
   "execution_count": 49,
   "metadata": {
    "collapsed": false
   },
   "outputs": [
    {
     "data": {
      "text/html": [
       "<table>\n",
       "<thead><tr><th scope=col>player_api_id</th><th scope=col>player_name</th><th scope=col>player_fifa_api_id</th><th scope=col>overall_rating</th><th scope=col>gk_overall</th></tr></thead>\n",
       "<tbody>\n",
       "\t<tr><td>2625             </td><td>Patryk Rachwal,18</td><td>148544           </td><td>61               </td><td>45               </td></tr>\n",
       "\t<tr><td>2625             </td><td>Patryk Rachwal,18</td><td>148544           </td><td>61               </td><td>45               </td></tr>\n",
       "\t<tr><td>2625             </td><td>Patryk Rachwal,18</td><td>148544           </td><td>61               </td><td>45               </td></tr>\n",
       "\t<tr><td>2625             </td><td>Patryk Rachwal,18</td><td>148544           </td><td>61               </td><td>45               </td></tr>\n",
       "\t<tr><td>2625             </td><td>Patryk Rachwal,18</td><td>148544           </td><td>61               </td><td>45               </td></tr>\n",
       "\t<tr><td>2625             </td><td>Patryk Rachwal,18</td><td>148544           </td><td>58               </td><td>45               </td></tr>\n",
       "</tbody>\n",
       "</table>\n"
      ],
      "text/latex": [
       "\\begin{tabular}{r|lllll}\n",
       " player\\_api\\_id & player\\_name & player\\_fifa\\_api\\_id & overall\\_rating & gk\\_overall\\\\\n",
       "\\hline\n",
       "\t 2625              & Patryk Rachwal,18 & 148544            & 61                & 45               \\\\\n",
       "\t 2625              & Patryk Rachwal,18 & 148544            & 61                & 45               \\\\\n",
       "\t 2625              & Patryk Rachwal,18 & 148544            & 61                & 45               \\\\\n",
       "\t 2625              & Patryk Rachwal,18 & 148544            & 61                & 45               \\\\\n",
       "\t 2625              & Patryk Rachwal,18 & 148544            & 61                & 45               \\\\\n",
       "\t 2625              & Patryk Rachwal,18 & 148544            & 58                & 45               \\\\\n",
       "\\end{tabular}\n"
      ],
      "text/markdown": [
       "\n",
       "player_api_id | player_name | player_fifa_api_id | overall_rating | gk_overall | \n",
       "|---|---|---|---|---|---|\n",
       "| 2625              | Patryk Rachwal,18 | 148544            | 61                | 45                | \n",
       "| 2625              | Patryk Rachwal,18 | 148544            | 61                | 45                | \n",
       "| 2625              | Patryk Rachwal,18 | 148544            | 61                | 45                | \n",
       "| 2625              | Patryk Rachwal,18 | 148544            | 61                | 45                | \n",
       "| 2625              | Patryk Rachwal,18 | 148544            | 61                | 45                | \n",
       "| 2625              | Patryk Rachwal,18 | 148544            | 58                | 45                | \n",
       "\n",
       "\n"
      ],
      "text/plain": [
       "  player_api_id player_name       player_fifa_api_id overall_rating gk_overall\n",
       "1 2625          Patryk Rachwal,18 148544             61             45        \n",
       "2 2625          Patryk Rachwal,18 148544             61             45        \n",
       "3 2625          Patryk Rachwal,18 148544             61             45        \n",
       "4 2625          Patryk Rachwal,18 148544             61             45        \n",
       "5 2625          Patryk Rachwal,18 148544             61             45        \n",
       "6 2625          Patryk Rachwal,18 148544             58             45        "
      ]
     },
     "metadata": {},
     "output_type": "display_data"
    }
   ],
   "source": [
    "PlayerMerge <- PlayerMerge[!(is.na(PlayerMerge$overall_rating) | is.na(PlayerMerge$gk_overall)), ]\n",
    "head(PlayerMerge)"
   ]
  },
  {
   "cell_type": "markdown",
   "metadata": {},
   "source": [
    "#### Getting all the columns home_player_* and away_player_* into a data frame and passing it to a table so that it gives the frequency of each player id which will in turn correspond to the number of appearances of that player."
   ]
  },
  {
   "cell_type": "code",
   "execution_count": 50,
   "metadata": {
    "collapsed": true
   },
   "outputs": [],
   "source": [
    "PlayerMatches <- data.frame(Matches=c(MatchDF$home_player_1,MatchDF$home_player_2,MatchDF$home_player_3,MatchDF$home_player_4,MatchDF$home_player_5,MatchDF$home_player_6,MatchDF$home_player_7,MatchDF$home_player_8,MatchDF$home_player_9,MatchDF$home_player_10,MatchDF$home_player_11,MatchDF$away_player_1,MatchDF$away_player_2,MatchDF$away_player_3,MatchDF$away_player_4,MatchDF$away_player_5,MatchDF$away_player_6,MatchDF$away_player_7,MatchDF$away_player_8,MatchDF$away_player_9,MatchDF$away_player_10,MatchDF$away_player_11))"
   ]
  },
  {
   "cell_type": "code",
   "execution_count": 51,
   "metadata": {
    "collapsed": true
   },
   "outputs": [],
   "source": [
    "PlayerMatches <- as.data.frame(table(PlayerMatches))"
   ]
  },
  {
   "cell_type": "code",
   "execution_count": 52,
   "metadata": {
    "collapsed": false
   },
   "outputs": [
    {
     "data": {
      "text/html": [
       "<table>\n",
       "<thead><tr><th scope=col>player_api_id</th><th scope=col>No_of_matches</th></tr></thead>\n",
       "<tbody>\n",
       "\t<tr><td>2625</td><td>90  </td></tr>\n",
       "\t<tr><td>2752</td><td>81  </td></tr>\n",
       "\t<tr><td>2768</td><td>71  </td></tr>\n",
       "\t<tr><td>2770</td><td>16  </td></tr>\n",
       "\t<tr><td>2790</td><td>50  </td></tr>\n",
       "\t<tr><td>2796</td><td> 1  </td></tr>\n",
       "</tbody>\n",
       "</table>\n"
      ],
      "text/latex": [
       "\\begin{tabular}{r|ll}\n",
       " player\\_api\\_id & No\\_of\\_matches\\\\\n",
       "\\hline\n",
       "\t 2625 & 90  \\\\\n",
       "\t 2752 & 81  \\\\\n",
       "\t 2768 & 71  \\\\\n",
       "\t 2770 & 16  \\\\\n",
       "\t 2790 & 50  \\\\\n",
       "\t 2796 &  1  \\\\\n",
       "\\end{tabular}\n"
      ],
      "text/markdown": [
       "\n",
       "player_api_id | No_of_matches | \n",
       "|---|---|---|---|---|---|\n",
       "| 2625 | 90   | \n",
       "| 2752 | 81   | \n",
       "| 2768 | 71   | \n",
       "| 2770 | 16   | \n",
       "| 2790 | 50   | \n",
       "| 2796 |  1   | \n",
       "\n",
       "\n"
      ],
      "text/plain": [
       "  player_api_id No_of_matches\n",
       "1 2625          90           \n",
       "2 2752          81           \n",
       "3 2768          71           \n",
       "4 2770          16           \n",
       "5 2790          50           \n",
       "6 2796           1           "
      ]
     },
     "metadata": {},
     "output_type": "display_data"
    }
   ],
   "source": [
    "colnames(PlayerMatches) <- c(\"player_api_id\",\"No_of_matches\")\n",
    "head(PlayerMatches)"
   ]
  },
  {
   "cell_type": "markdown",
   "metadata": {},
   "source": [
    "#### Merge the No_of_matches column that we got above with the data frame we made for gk_overall"
   ]
  },
  {
   "cell_type": "code",
   "execution_count": 53,
   "metadata": {
    "collapsed": false
   },
   "outputs": [
    {
     "data": {
      "text/html": [
       "<table>\n",
       "<thead><tr><th scope=col>player_api_id</th><th scope=col>player_name</th><th scope=col>player_fifa_api_id</th><th scope=col>overall_rating</th><th scope=col>gk_overall</th><th scope=col>No_of_matches</th></tr></thead>\n",
       "<tbody>\n",
       "\t<tr><td>2625             </td><td>Patryk Rachwal,18</td><td>148544           </td><td>61               </td><td>45               </td><td>90               </td></tr>\n",
       "\t<tr><td>2625             </td><td>Patryk Rachwal,18</td><td>148544           </td><td>61               </td><td>45               </td><td>90               </td></tr>\n",
       "\t<tr><td>2625             </td><td>Patryk Rachwal,18</td><td>148544           </td><td>61               </td><td>45               </td><td>90               </td></tr>\n",
       "\t<tr><td>2625             </td><td>Patryk Rachwal,18</td><td>148544           </td><td>61               </td><td>45               </td><td>90               </td></tr>\n",
       "\t<tr><td>2625             </td><td>Patryk Rachwal,18</td><td>148544           </td><td>61               </td><td>45               </td><td>90               </td></tr>\n",
       "\t<tr><td>2625             </td><td>Patryk Rachwal,18</td><td>148544           </td><td>58               </td><td>45               </td><td>90               </td></tr>\n",
       "</tbody>\n",
       "</table>\n"
      ],
      "text/latex": [
       "\\begin{tabular}{r|llllll}\n",
       " player\\_api\\_id & player\\_name & player\\_fifa\\_api\\_id & overall\\_rating & gk\\_overall & No\\_of\\_matches\\\\\n",
       "\\hline\n",
       "\t 2625              & Patryk Rachwal,18 & 148544            & 61                & 45                & 90               \\\\\n",
       "\t 2625              & Patryk Rachwal,18 & 148544            & 61                & 45                & 90               \\\\\n",
       "\t 2625              & Patryk Rachwal,18 & 148544            & 61                & 45                & 90               \\\\\n",
       "\t 2625              & Patryk Rachwal,18 & 148544            & 61                & 45                & 90               \\\\\n",
       "\t 2625              & Patryk Rachwal,18 & 148544            & 61                & 45                & 90               \\\\\n",
       "\t 2625              & Patryk Rachwal,18 & 148544            & 58                & 45                & 90               \\\\\n",
       "\\end{tabular}\n"
      ],
      "text/markdown": [
       "\n",
       "player_api_id | player_name | player_fifa_api_id | overall_rating | gk_overall | No_of_matches | \n",
       "|---|---|---|---|---|---|\n",
       "| 2625              | Patryk Rachwal,18 | 148544            | 61                | 45                | 90                | \n",
       "| 2625              | Patryk Rachwal,18 | 148544            | 61                | 45                | 90                | \n",
       "| 2625              | Patryk Rachwal,18 | 148544            | 61                | 45                | 90                | \n",
       "| 2625              | Patryk Rachwal,18 | 148544            | 61                | 45                | 90                | \n",
       "| 2625              | Patryk Rachwal,18 | 148544            | 61                | 45                | 90                | \n",
       "| 2625              | Patryk Rachwal,18 | 148544            | 58                | 45                | 90                | \n",
       "\n",
       "\n"
      ],
      "text/plain": [
       "  player_api_id player_name       player_fifa_api_id overall_rating gk_overall\n",
       "1 2625          Patryk Rachwal,18 148544             61             45        \n",
       "2 2625          Patryk Rachwal,18 148544             61             45        \n",
       "3 2625          Patryk Rachwal,18 148544             61             45        \n",
       "4 2625          Patryk Rachwal,18 148544             61             45        \n",
       "5 2625          Patryk Rachwal,18 148544             61             45        \n",
       "6 2625          Patryk Rachwal,18 148544             58             45        \n",
       "  No_of_matches\n",
       "1 90           \n",
       "2 90           \n",
       "3 90           \n",
       "4 90           \n",
       "5 90           \n",
       "6 90           "
      ]
     },
     "metadata": {},
     "output_type": "display_data"
    }
   ],
   "source": [
    "temp <- merge(PlayerMerge,PlayerMatches,by=\"player_api_id\")\n",
    "head(temp)"
   ]
  },
  {
   "cell_type": "markdown",
   "metadata": {},
   "source": [
    "#### Getting all the columns home_player_* and away_player_*  as one column along with its league id as another column into a data frame and After this step, passing the "
   ]
  },
  {
   "cell_type": "code",
   "execution_count": 54,
   "metadata": {
    "collapsed": false
   },
   "outputs": [
    {
     "data": {
      "text/html": [
       "<table>\n",
       "<thead><tr><th scope=col>Matches</th><th scope=col>League</th></tr></thead>\n",
       "<tbody>\n",
       "\t<tr><td>NA</td><td>1 </td></tr>\n",
       "\t<tr><td>NA</td><td>1 </td></tr>\n",
       "\t<tr><td>NA</td><td>1 </td></tr>\n",
       "\t<tr><td>NA</td><td>1 </td></tr>\n",
       "\t<tr><td>NA</td><td>1 </td></tr>\n",
       "\t<tr><td>NA</td><td>1 </td></tr>\n",
       "</tbody>\n",
       "</table>\n"
      ],
      "text/latex": [
       "\\begin{tabular}{r|ll}\n",
       " Matches & League\\\\\n",
       "\\hline\n",
       "\t NA & 1 \\\\\n",
       "\t NA & 1 \\\\\n",
       "\t NA & 1 \\\\\n",
       "\t NA & 1 \\\\\n",
       "\t NA & 1 \\\\\n",
       "\t NA & 1 \\\\\n",
       "\\end{tabular}\n"
      ],
      "text/markdown": [
       "\n",
       "Matches | League | \n",
       "|---|---|---|---|---|---|\n",
       "| NA | 1  | \n",
       "| NA | 1  | \n",
       "| NA | 1  | \n",
       "| NA | 1  | \n",
       "| NA | 1  | \n",
       "| NA | 1  | \n",
       "\n",
       "\n"
      ],
      "text/plain": [
       "  Matches League\n",
       "1 NA      1     \n",
       "2 NA      1     \n",
       "3 NA      1     \n",
       "4 NA      1     \n",
       "5 NA      1     \n",
       "6 NA      1     "
      ]
     },
     "metadata": {},
     "output_type": "display_data"
    }
   ],
   "source": [
    "PlayerLeagues <- data.frame(Matches=c(MatchDF$home_player_1,MatchDF$home_player_2,MatchDF$home_player_3,MatchDF$home_player_4,MatchDF$home_player_5,MatchDF$home_player_6,MatchDF$home_player_7,MatchDF$home_player_8,MatchDF$home_player_9,MatchDF$home_player_10,MatchDF$home_player_11,MatchDF$away_player_1,MatchDF$away_player_2,MatchDF$away_player_3,MatchDF$away_player_4,MatchDF$away_player_5,MatchDF$away_player_6,MatchDF$away_player_7,MatchDF$away_player_8,MatchDF$away_player_9,MatchDF$away_player_10,MatchDF$away_player_11),League = MatchDF$league_id)\n",
    "head(PlayerLeagues)"
   ]
  },
  {
   "cell_type": "markdown",
   "metadata": {},
   "source": [
    "#### Passing the above generated data frame to a table, gives the frequency of each (player id,league id) which will in turn correspond to the number of appearances of that player in that particular League."
   ]
  },
  {
   "cell_type": "code",
   "execution_count": 55,
   "metadata": {
    "collapsed": false
   },
   "outputs": [
    {
     "data": {
      "text/html": [
       "<table>\n",
       "<thead><tr><th scope=col>Matches</th><th scope=col>League</th><th scope=col>Freq</th></tr></thead>\n",
       "<tbody>\n",
       "\t<tr><td>2625</td><td>1   </td><td> 0  </td></tr>\n",
       "\t<tr><td>2752</td><td>1   </td><td> 0  </td></tr>\n",
       "\t<tr><td>2768</td><td>1   </td><td> 0  </td></tr>\n",
       "\t<tr><td>2770</td><td>1   </td><td>14  </td></tr>\n",
       "\t<tr><td>2790</td><td>1   </td><td> 0  </td></tr>\n",
       "\t<tr><td>2796</td><td>1   </td><td> 0  </td></tr>\n",
       "</tbody>\n",
       "</table>\n"
      ],
      "text/latex": [
       "\\begin{tabular}{r|lll}\n",
       " Matches & League & Freq\\\\\n",
       "\\hline\n",
       "\t 2625 & 1    &  0  \\\\\n",
       "\t 2752 & 1    &  0  \\\\\n",
       "\t 2768 & 1    &  0  \\\\\n",
       "\t 2770 & 1    & 14  \\\\\n",
       "\t 2790 & 1    &  0  \\\\\n",
       "\t 2796 & 1    &  0  \\\\\n",
       "\\end{tabular}\n"
      ],
      "text/markdown": [
       "\n",
       "Matches | League | Freq | \n",
       "|---|---|---|---|---|---|\n",
       "| 2625 | 1    |  0   | \n",
       "| 2752 | 1    |  0   | \n",
       "| 2768 | 1    |  0   | \n",
       "| 2770 | 1    | 14   | \n",
       "| 2790 | 1    |  0   | \n",
       "| 2796 | 1    |  0   | \n",
       "\n",
       "\n"
      ],
      "text/plain": [
       "  Matches League Freq\n",
       "1 2625    1       0  \n",
       "2 2752    1       0  \n",
       "3 2768    1       0  \n",
       "4 2770    1      14  \n",
       "5 2790    1       0  \n",
       "6 2796    1       0  "
      ]
     },
     "metadata": {},
     "output_type": "display_data"
    }
   ],
   "source": [
    "PlayerLeagues <- as.data.frame(table(PlayerLeagues))\n",
    "head(PlayerLeagues)"
   ]
  },
  {
   "cell_type": "markdown",
   "metadata": {},
   "source": [
    "#### Remove all the rows where the frequeny of (player id,league id) is equal to 0 because it means that that player has not played a single game in that league."
   ]
  },
  {
   "cell_type": "code",
   "execution_count": 56,
   "metadata": {
    "collapsed": false
   },
   "outputs": [
    {
     "data": {
      "text/html": [
       "<table>\n",
       "<thead><tr><th></th><th scope=col>Matches</th><th scope=col>League</th><th scope=col>Freq</th></tr></thead>\n",
       "<tbody>\n",
       "\t<tr><th scope=row>4</th><td>2770</td><td>1   </td><td>14  </td></tr>\n",
       "\t<tr><th scope=row>21</th><td>3329</td><td>1   </td><td>85  </td></tr>\n",
       "\t<tr><th scope=row>28</th><td>4863</td><td>1   </td><td>25  </td></tr>\n",
       "\t<tr><th scope=row>32</th><td>5016</td><td>1   </td><td>69  </td></tr>\n",
       "\t<tr><th scope=row>44</th><td>5272</td><td>1   </td><td>27  </td></tr>\n",
       "\t<tr><th scope=row>47</th><td>5468</td><td>1   </td><td> 7  </td></tr>\n",
       "</tbody>\n",
       "</table>\n"
      ],
      "text/latex": [
       "\\begin{tabular}{r|lll}\n",
       "  & Matches & League & Freq\\\\\n",
       "\\hline\n",
       "\t4 & 2770 & 1    & 14  \\\\\n",
       "\t21 & 3329 & 1    & 85  \\\\\n",
       "\t28 & 4863 & 1    & 25  \\\\\n",
       "\t32 & 5016 & 1    & 69  \\\\\n",
       "\t44 & 5272 & 1    & 27  \\\\\n",
       "\t47 & 5468 & 1    &  7  \\\\\n",
       "\\end{tabular}\n"
      ],
      "text/markdown": [
       "\n",
       "| <!--/--> | Matches | League | Freq | \n",
       "|---|---|---|---|---|---|\n",
       "| 4 | 2770 | 1    | 14   | \n",
       "| 21 | 3329 | 1    | 85   | \n",
       "| 28 | 4863 | 1    | 25   | \n",
       "| 32 | 5016 | 1    | 69   | \n",
       "| 44 | 5272 | 1    | 27   | \n",
       "| 47 | 5468 | 1    |  7   | \n",
       "\n",
       "\n"
      ],
      "text/plain": [
       "   Matches League Freq\n",
       "4  2770    1      14  \n",
       "21 3329    1      85  \n",
       "28 4863    1      25  \n",
       "32 5016    1      69  \n",
       "44 5272    1      27  \n",
       "47 5468    1       7  "
      ]
     },
     "metadata": {},
     "output_type": "display_data"
    }
   ],
   "source": [
    "PlayerLeagues <- PlayerLeagues[!(PlayerLeagues$Freq==0), ]\n",
    "head(PlayerLeagues)"
   ]
  },
  {
   "cell_type": "markdown",
   "metadata": {},
   "source": [
    "#### Passing matches column of the above obtained data frame in a table will result in a new column which will correspond to the number of leagues of that player id."
   ]
  },
  {
   "cell_type": "code",
   "execution_count": 57,
   "metadata": {
    "collapsed": false
   },
   "outputs": [
    {
     "data": {
      "text/html": [
       "<table>\n",
       "<thead><tr><th scope=col>Var1</th><th scope=col>Freq</th></tr></thead>\n",
       "<tbody>\n",
       "\t<tr><td>2625</td><td>1   </td></tr>\n",
       "\t<tr><td>2752</td><td>1   </td></tr>\n",
       "\t<tr><td>2768</td><td>1   </td></tr>\n",
       "\t<tr><td>2770</td><td>2   </td></tr>\n",
       "\t<tr><td>2790</td><td>1   </td></tr>\n",
       "\t<tr><td>2796</td><td>1   </td></tr>\n",
       "</tbody>\n",
       "</table>\n"
      ],
      "text/latex": [
       "\\begin{tabular}{r|ll}\n",
       " Var1 & Freq\\\\\n",
       "\\hline\n",
       "\t 2625 & 1   \\\\\n",
       "\t 2752 & 1   \\\\\n",
       "\t 2768 & 1   \\\\\n",
       "\t 2770 & 2   \\\\\n",
       "\t 2790 & 1   \\\\\n",
       "\t 2796 & 1   \\\\\n",
       "\\end{tabular}\n"
      ],
      "text/markdown": [
       "\n",
       "Var1 | Freq | \n",
       "|---|---|---|---|---|---|\n",
       "| 2625 | 1    | \n",
       "| 2752 | 1    | \n",
       "| 2768 | 1    | \n",
       "| 2770 | 2    | \n",
       "| 2790 | 1    | \n",
       "| 2796 | 1    | \n",
       "\n",
       "\n"
      ],
      "text/plain": [
       "  Var1 Freq\n",
       "1 2625 1   \n",
       "2 2752 1   \n",
       "3 2768 1   \n",
       "4 2770 2   \n",
       "5 2790 1   \n",
       "6 2796 1   "
      ]
     },
     "metadata": {},
     "output_type": "display_data"
    }
   ],
   "source": [
    "No_of_leagues <- as.data.frame(table(PlayerLeagues$Matches))\n",
    "head(No_of_leagues)"
   ]
  },
  {
   "cell_type": "code",
   "execution_count": 58,
   "metadata": {
    "collapsed": true
   },
   "outputs": [],
   "source": [
    "colnames(No_of_leagues) <- c(\"player_api_id\",\"No_of_Leagues\")"
   ]
  },
  {
   "cell_type": "markdown",
   "metadata": {},
   "source": [
    "#### Merge the No_of_leagues column that we got above with the data frame we made merging N0_of_matches"
   ]
  },
  {
   "cell_type": "code",
   "execution_count": 59,
   "metadata": {
    "collapsed": false
   },
   "outputs": [
    {
     "data": {
      "text/html": [
       "<table>\n",
       "<thead><tr><th scope=col>player_api_id</th><th scope=col>player_name</th><th scope=col>player_fifa_api_id</th><th scope=col>overall_rating</th><th scope=col>gk_overall</th><th scope=col>No_of_matches</th><th scope=col>No_of_Leagues</th></tr></thead>\n",
       "<tbody>\n",
       "\t<tr><td>2625             </td><td>Patryk Rachwal,18</td><td>148544           </td><td>61               </td><td>45               </td><td>90               </td><td>1                </td></tr>\n",
       "\t<tr><td>2625             </td><td>Patryk Rachwal,18</td><td>148544           </td><td>61               </td><td>45               </td><td>90               </td><td>1                </td></tr>\n",
       "\t<tr><td>2625             </td><td>Patryk Rachwal,18</td><td>148544           </td><td>61               </td><td>45               </td><td>90               </td><td>1                </td></tr>\n",
       "\t<tr><td>2625             </td><td>Patryk Rachwal,18</td><td>148544           </td><td>61               </td><td>45               </td><td>90               </td><td>1                </td></tr>\n",
       "\t<tr><td>2625             </td><td>Patryk Rachwal,18</td><td>148544           </td><td>61               </td><td>45               </td><td>90               </td><td>1                </td></tr>\n",
       "\t<tr><td>2625             </td><td>Patryk Rachwal,18</td><td>148544           </td><td>58               </td><td>45               </td><td>90               </td><td>1                </td></tr>\n",
       "</tbody>\n",
       "</table>\n"
      ],
      "text/latex": [
       "\\begin{tabular}{r|lllllll}\n",
       " player\\_api\\_id & player\\_name & player\\_fifa\\_api\\_id & overall\\_rating & gk\\_overall & No\\_of\\_matches & No\\_of\\_Leagues\\\\\n",
       "\\hline\n",
       "\t 2625              & Patryk Rachwal,18 & 148544            & 61                & 45                & 90                & 1                \\\\\n",
       "\t 2625              & Patryk Rachwal,18 & 148544            & 61                & 45                & 90                & 1                \\\\\n",
       "\t 2625              & Patryk Rachwal,18 & 148544            & 61                & 45                & 90                & 1                \\\\\n",
       "\t 2625              & Patryk Rachwal,18 & 148544            & 61                & 45                & 90                & 1                \\\\\n",
       "\t 2625              & Patryk Rachwal,18 & 148544            & 61                & 45                & 90                & 1                \\\\\n",
       "\t 2625              & Patryk Rachwal,18 & 148544            & 58                & 45                & 90                & 1                \\\\\n",
       "\\end{tabular}\n"
      ],
      "text/markdown": [
       "\n",
       "player_api_id | player_name | player_fifa_api_id | overall_rating | gk_overall | No_of_matches | No_of_Leagues | \n",
       "|---|---|---|---|---|---|\n",
       "| 2625              | Patryk Rachwal,18 | 148544            | 61                | 45                | 90                | 1                 | \n",
       "| 2625              | Patryk Rachwal,18 | 148544            | 61                | 45                | 90                | 1                 | \n",
       "| 2625              | Patryk Rachwal,18 | 148544            | 61                | 45                | 90                | 1                 | \n",
       "| 2625              | Patryk Rachwal,18 | 148544            | 61                | 45                | 90                | 1                 | \n",
       "| 2625              | Patryk Rachwal,18 | 148544            | 61                | 45                | 90                | 1                 | \n",
       "| 2625              | Patryk Rachwal,18 | 148544            | 58                | 45                | 90                | 1                 | \n",
       "\n",
       "\n"
      ],
      "text/plain": [
       "  player_api_id player_name       player_fifa_api_id overall_rating gk_overall\n",
       "1 2625          Patryk Rachwal,18 148544             61             45        \n",
       "2 2625          Patryk Rachwal,18 148544             61             45        \n",
       "3 2625          Patryk Rachwal,18 148544             61             45        \n",
       "4 2625          Patryk Rachwal,18 148544             61             45        \n",
       "5 2625          Patryk Rachwal,18 148544             61             45        \n",
       "6 2625          Patryk Rachwal,18 148544             58             45        \n",
       "  No_of_matches No_of_Leagues\n",
       "1 90            1            \n",
       "2 90            1            \n",
       "3 90            1            \n",
       "4 90            1            \n",
       "5 90            1            \n",
       "6 90            1            "
      ]
     },
     "metadata": {},
     "output_type": "display_data"
    }
   ],
   "source": [
    "PlayerMerge <- merge(temp,No_of_leagues,by=\"player_api_id\")\n",
    "head(PlayerMerge)"
   ]
  },
  {
   "cell_type": "markdown",
   "metadata": {},
   "source": [
    "#### This above data frame is the final data frame which I will use to answer the questions and hence I save it in a csv using the function write.csv "
   ]
  },
  {
   "cell_type": "code",
   "execution_count": 60,
   "metadata": {
    "collapsed": false
   },
   "outputs": [],
   "source": [
    "write.csv(PlayerMerge,file=\"player.csv\")"
   ]
  },
  {
   "cell_type": "markdown",
   "metadata": {},
   "source": [
    "#### Merge the 'team' and 'team_attributes' table with only the columns that we need"
   ]
  },
  {
   "cell_type": "code",
   "execution_count": 61,
   "metadata": {
    "collapsed": true
   },
   "outputs": [],
   "source": [
    "TeamMerge <- merge(TeamDF[,c(\"team_api_id\",\"team_fifa_api_id\",\"team_long_name\")],Team_AttributesDF[,c(\"team_api_id\",\"buildUpPlaySpeed\",\"buildUpPlayDribbling\",\"buildUpPlayPassing\",\"chanceCreationPassing\",\"chanceCreationCrossing\",\"chanceCreationShooting\",\"defencePressure\",\"defenceAggression\",\"defenceTeamWidth\")],by=\"team_api_id\")"
   ]
  },
  {
   "cell_type": "markdown",
   "metadata": {},
   "source": [
    "#### Summing up all the numeric buildUpPlay columns into one single column *buildUpPlay* which will represent the *Build Up Play of the team* using the mutate function."
   ]
  },
  {
   "cell_type": "code",
   "execution_count": 62,
   "metadata": {
    "collapsed": true
   },
   "outputs": [],
   "source": [
    "TeamMerge <- mutate(TeamMerge,buildUpPlay = buildUpPlaySpeed+buildUpPlayDribbling+buildUpPlayPassing)"
   ]
  },
  {
   "cell_type": "markdown",
   "metadata": {},
   "source": [
    "#### Summing up all the numeric chanceCreation columns into one single column *chanceCreation* which will represent the *Chance Creation of the team* using the mutate function."
   ]
  },
  {
   "cell_type": "code",
   "execution_count": 63,
   "metadata": {
    "collapsed": true
   },
   "outputs": [],
   "source": [
    "TeamMerge <- mutate(TeamMerge,chanceCreation = chanceCreationPassing+chanceCreationCrossing+chanceCreationShooting)"
   ]
  },
  {
   "cell_type": "markdown",
   "metadata": {},
   "source": [
    "#### Summing up all the numeric defence columns into one single column *Defence* which will represent the *Defence of the team* using the mutate function."
   ]
  },
  {
   "cell_type": "code",
   "execution_count": 64,
   "metadata": {
    "collapsed": true
   },
   "outputs": [],
   "source": [
    "TeamMerge <- mutate(TeamMerge,defence = defencePressure+defenceAggression+defenceTeamWidth)"
   ]
  },
  {
   "cell_type": "markdown",
   "metadata": {},
   "source": [
    "#### Removing all the columns which are not needed now like all the individual buildUpPlay, chanceCreation and defence attribute coumns"
   ]
  },
  {
   "cell_type": "code",
   "execution_count": 65,
   "metadata": {
    "collapsed": true
   },
   "outputs": [],
   "source": [
    "TeamMerge$buildUpPlaySpeed <- NULL\n",
    "TeamMerge$buildUpPlayDribbling <- NULL\n",
    "TeamMerge$buildUpPlayPassing <- NULL\n",
    "TeamMerge$chanceCreationPassing <- NULL\n",
    "TeamMerge$chanceCreationCrossing <- NULL\n",
    "TeamMerge$chanceCreationShooting <- NULL\n",
    "TeamMerge$defencePressure <- NULL\n",
    "TeamMerge$defenceAggression <- NULL\n",
    "TeamMerge$defenceTeamWidth <- NULL"
   ]
  },
  {
   "cell_type": "code",
   "execution_count": 66,
   "metadata": {
    "collapsed": false
   },
   "outputs": [
    {
     "data": {
      "text/html": [
       "<table>\n",
       "<thead><tr><th scope=col>team_api_id</th><th scope=col>team_fifa_api_id</th><th scope=col>team_long_name</th><th scope=col>buildUpPlay</th><th scope=col>chanceCreation</th><th scope=col>defence</th></tr></thead>\n",
       "<tbody>\n",
       "\t<tr><td>1601        </td><td>874         </td><td>Ruch Chorzów</td><td> NA         </td><td>155         </td><td>175         </td></tr>\n",
       "\t<tr><td>1601        </td><td>874         </td><td>Ruch Chorzów</td><td> NA         </td><td>159         </td><td>136         </td></tr>\n",
       "\t<tr><td>1601        </td><td>874         </td><td>Ruch Chorzów</td><td> NA         </td><td>186         </td><td>144         </td></tr>\n",
       "\t<tr><td>1601        </td><td>874         </td><td>Ruch Chorzów</td><td>139         </td><td>181         </td><td>136         </td></tr>\n",
       "\t<tr><td>1601        </td><td>874         </td><td>Ruch Chorzów</td><td> NA         </td><td>159         </td><td>136         </td></tr>\n",
       "\t<tr><td>1601        </td><td>874         </td><td>Ruch Chorzów</td><td>133         </td><td>176         </td><td>136         </td></tr>\n",
       "</tbody>\n",
       "</table>\n"
      ],
      "text/latex": [
       "\\begin{tabular}{r|llllll}\n",
       " team\\_api\\_id & team\\_fifa\\_api\\_id & team\\_long\\_name & buildUpPlay & chanceCreation & defence\\\\\n",
       "\\hline\n",
       "\t 1601         & 874          & Ruch Chorzów &  NA          & 155          & 175         \\\\\n",
       "\t 1601         & 874          & Ruch Chorzów &  NA          & 159          & 136         \\\\\n",
       "\t 1601         & 874          & Ruch Chorzów &  NA          & 186          & 144         \\\\\n",
       "\t 1601         & 874          & Ruch Chorzów & 139          & 181          & 136         \\\\\n",
       "\t 1601         & 874          & Ruch Chorzów &  NA          & 159          & 136         \\\\\n",
       "\t 1601         & 874          & Ruch Chorzów & 133          & 176          & 136         \\\\\n",
       "\\end{tabular}\n"
      ],
      "text/markdown": [
       "\n",
       "team_api_id | team_fifa_api_id | team_long_name | buildUpPlay | chanceCreation | defence | \n",
       "|---|---|---|---|---|---|\n",
       "| 1601         | 874          | Ruch Chorzów |  NA          | 155          | 175          | \n",
       "| 1601         | 874          | Ruch Chorzów |  NA          | 159          | 136          | \n",
       "| 1601         | 874          | Ruch Chorzów |  NA          | 186          | 144          | \n",
       "| 1601         | 874          | Ruch Chorzów | 139          | 181          | 136          | \n",
       "| 1601         | 874          | Ruch Chorzów |  NA          | 159          | 136          | \n",
       "| 1601         | 874          | Ruch Chorzów | 133          | 176          | 136          | \n",
       "\n",
       "\n"
      ],
      "text/plain": [
       "  team_api_id team_fifa_api_id team_long_name buildUpPlay chanceCreation\n",
       "1 1601        874              Ruch Chorzów    NA         155           \n",
       "2 1601        874              Ruch Chorzów    NA         159           \n",
       "3 1601        874              Ruch Chorzów    NA         186           \n",
       "4 1601        874              Ruch Chorzów   139         181           \n",
       "5 1601        874              Ruch Chorzów    NA         159           \n",
       "6 1601        874              Ruch Chorzów   133         176           \n",
       "  defence\n",
       "1 175    \n",
       "2 136    \n",
       "3 144    \n",
       "4 136    \n",
       "5 136    \n",
       "6 136    "
      ]
     },
     "metadata": {},
     "output_type": "display_data"
    }
   ],
   "source": [
    "head(TeamMerge)"
   ]
  },
  {
   "cell_type": "markdown",
   "metadata": {},
   "source": [
    "#### Removing all the NA in the data frame and replace it with 0"
   ]
  },
  {
   "cell_type": "code",
   "execution_count": 67,
   "metadata": {
    "collapsed": false
   },
   "outputs": [
    {
     "data": {
      "text/html": [
       "<table>\n",
       "<thead><tr><th scope=col>team_api_id</th><th scope=col>team_fifa_api_id</th><th scope=col>team_long_name</th><th scope=col>buildUpPlay</th><th scope=col>chanceCreation</th><th scope=col>defence</th></tr></thead>\n",
       "<tbody>\n",
       "\t<tr><td>1601        </td><td>874         </td><td>Ruch Chorzów</td><td>  0         </td><td>155         </td><td>175         </td></tr>\n",
       "\t<tr><td>1601        </td><td>874         </td><td>Ruch Chorzów</td><td>  0         </td><td>159         </td><td>136         </td></tr>\n",
       "\t<tr><td>1601        </td><td>874         </td><td>Ruch Chorzów</td><td>  0         </td><td>186         </td><td>144         </td></tr>\n",
       "\t<tr><td>1601        </td><td>874         </td><td>Ruch Chorzów</td><td>139         </td><td>181         </td><td>136         </td></tr>\n",
       "\t<tr><td>1601        </td><td>874         </td><td>Ruch Chorzów</td><td>  0         </td><td>159         </td><td>136         </td></tr>\n",
       "\t<tr><td>1601        </td><td>874         </td><td>Ruch Chorzów</td><td>133         </td><td>176         </td><td>136         </td></tr>\n",
       "</tbody>\n",
       "</table>\n"
      ],
      "text/latex": [
       "\\begin{tabular}{r|llllll}\n",
       " team\\_api\\_id & team\\_fifa\\_api\\_id & team\\_long\\_name & buildUpPlay & chanceCreation & defence\\\\\n",
       "\\hline\n",
       "\t 1601         & 874          & Ruch Chorzów &   0          & 155          & 175         \\\\\n",
       "\t 1601         & 874          & Ruch Chorzów &   0          & 159          & 136         \\\\\n",
       "\t 1601         & 874          & Ruch Chorzów &   0          & 186          & 144         \\\\\n",
       "\t 1601         & 874          & Ruch Chorzów & 139          & 181          & 136         \\\\\n",
       "\t 1601         & 874          & Ruch Chorzów &   0          & 159          & 136         \\\\\n",
       "\t 1601         & 874          & Ruch Chorzów & 133          & 176          & 136         \\\\\n",
       "\\end{tabular}\n"
      ],
      "text/markdown": [
       "\n",
       "team_api_id | team_fifa_api_id | team_long_name | buildUpPlay | chanceCreation | defence | \n",
       "|---|---|---|---|---|---|\n",
       "| 1601         | 874          | Ruch Chorzów |   0          | 155          | 175          | \n",
       "| 1601         | 874          | Ruch Chorzów |   0          | 159          | 136          | \n",
       "| 1601         | 874          | Ruch Chorzów |   0          | 186          | 144          | \n",
       "| 1601         | 874          | Ruch Chorzów | 139          | 181          | 136          | \n",
       "| 1601         | 874          | Ruch Chorzów |   0          | 159          | 136          | \n",
       "| 1601         | 874          | Ruch Chorzów | 133          | 176          | 136          | \n",
       "\n",
       "\n"
      ],
      "text/plain": [
       "  team_api_id team_fifa_api_id team_long_name buildUpPlay chanceCreation\n",
       "1 1601        874              Ruch Chorzów     0         155           \n",
       "2 1601        874              Ruch Chorzów     0         159           \n",
       "3 1601        874              Ruch Chorzów     0         186           \n",
       "4 1601        874              Ruch Chorzów   139         181           \n",
       "5 1601        874              Ruch Chorzów     0         159           \n",
       "6 1601        874              Ruch Chorzów   133         176           \n",
       "  defence\n",
       "1 175    \n",
       "2 136    \n",
       "3 144    \n",
       "4 136    \n",
       "5 136    \n",
       "6 136    "
      ]
     },
     "metadata": {},
     "output_type": "display_data"
    }
   ],
   "source": [
    "#Replace NA with 0\n",
    "TeamMerge[is.na(TeamMerge)] <- 0\n",
    "head(TeamMerge)"
   ]
  },
  {
   "cell_type": "markdown",
   "metadata": {},
   "source": [
    "#### Save the home team's id in one column and corresponding goals in another column from the match table and save it to a data frame. Do the same for the Away team."
   ]
  },
  {
   "cell_type": "code",
   "execution_count": 68,
   "metadata": {
    "collapsed": true
   },
   "outputs": [],
   "source": [
    "Matches_Home <- data.frame(team_api_id=MatchDF$home_team_api_id,Goals=MatchDF$home_team_goal)\n",
    "Matches_Away <- data.frame(team_api_id=MatchDF$away_team_api_id,Goals=MatchDF$away_team_goal)"
   ]
  },
  {
   "cell_type": "markdown",
   "metadata": {},
   "source": [
    "#### Merge the above two data frames row wise and save it into another data frame. So now we have all the teams and the goals they scored in each match they played"
   ]
  },
  {
   "cell_type": "code",
   "execution_count": 69,
   "metadata": {
    "collapsed": false
   },
   "outputs": [
    {
     "data": {
      "text/html": [
       "<table>\n",
       "<thead><tr><th scope=col>team_api_id</th><th scope=col>Goals</th></tr></thead>\n",
       "<tbody>\n",
       "\t<tr><td> 9987</td><td>1    </td></tr>\n",
       "\t<tr><td>10000</td><td>0    </td></tr>\n",
       "\t<tr><td> 9984</td><td>0    </td></tr>\n",
       "\t<tr><td> 9991</td><td>5    </td></tr>\n",
       "\t<tr><td> 7947</td><td>1    </td></tr>\n",
       "\t<tr><td> 8203</td><td>1    </td></tr>\n",
       "</tbody>\n",
       "</table>\n"
      ],
      "text/latex": [
       "\\begin{tabular}{r|ll}\n",
       " team\\_api\\_id & Goals\\\\\n",
       "\\hline\n",
       "\t  9987 & 1    \\\\\n",
       "\t 10000 & 0    \\\\\n",
       "\t  9984 & 0    \\\\\n",
       "\t  9991 & 5    \\\\\n",
       "\t  7947 & 1    \\\\\n",
       "\t  8203 & 1    \\\\\n",
       "\\end{tabular}\n"
      ],
      "text/markdown": [
       "\n",
       "team_api_id | Goals | \n",
       "|---|---|---|---|---|---|\n",
       "|  9987 | 1     | \n",
       "| 10000 | 0     | \n",
       "|  9984 | 0     | \n",
       "|  9991 | 5     | \n",
       "|  7947 | 1     | \n",
       "|  8203 | 1     | \n",
       "\n",
       "\n"
      ],
      "text/plain": [
       "  team_api_id Goals\n",
       "1  9987       1    \n",
       "2 10000       0    \n",
       "3  9984       0    \n",
       "4  9991       5    \n",
       "5  7947       1    \n",
       "6  8203       1    "
      ]
     },
     "metadata": {},
     "output_type": "display_data"
    }
   ],
   "source": [
    "Home_Away <- rbind(Matches_Home,Matches_Away)\n",
    "head(Home_Away)"
   ]
  },
  {
   "cell_type": "markdown",
   "metadata": {},
   "source": [
    "#### Sum the goals for each of the team using the group_by and the sum function. This will result in two columns one containing the team id and the other column contains the total number of goals it has scored."
   ]
  },
  {
   "cell_type": "code",
   "execution_count": 70,
   "metadata": {
    "collapsed": false
   },
   "outputs": [
    {
     "data": {
      "text/html": [
       "<table>\n",
       "<thead><tr><th scope=col>team_api_id</th><th scope=col>goals</th></tr></thead>\n",
       "<tbody>\n",
       "\t<tr><td>1601</td><td>280 </td></tr>\n",
       "\t<tr><td>1773</td><td>126 </td></tr>\n",
       "\t<tr><td>1957</td><td>287 </td></tr>\n",
       "\t<tr><td>2033</td><td>138 </td></tr>\n",
       "\t<tr><td>2182</td><td>372 </td></tr>\n",
       "\t<tr><td>2183</td><td>184 </td></tr>\n",
       "</tbody>\n",
       "</table>\n"
      ],
      "text/latex": [
       "\\begin{tabular}{r|ll}\n",
       " team\\_api\\_id & goals\\\\\n",
       "\\hline\n",
       "\t 1601 & 280 \\\\\n",
       "\t 1773 & 126 \\\\\n",
       "\t 1957 & 287 \\\\\n",
       "\t 2033 & 138 \\\\\n",
       "\t 2182 & 372 \\\\\n",
       "\t 2183 & 184 \\\\\n",
       "\\end{tabular}\n"
      ],
      "text/markdown": [
       "\n",
       "team_api_id | goals | \n",
       "|---|---|---|---|---|---|\n",
       "| 1601 | 280  | \n",
       "| 1773 | 126  | \n",
       "| 1957 | 287  | \n",
       "| 2033 | 138  | \n",
       "| 2182 | 372  | \n",
       "| 2183 | 184  | \n",
       "\n",
       "\n"
      ],
      "text/plain": [
       "  team_api_id goals\n",
       "1 1601        280  \n",
       "2 1773        126  \n",
       "3 1957        287  \n",
       "4 2033        138  \n",
       "5 2182        372  \n",
       "6 2183        184  "
      ]
     },
     "metadata": {},
     "output_type": "display_data"
    }
   ],
   "source": [
    "grp <- group_by(Home_Away, team_api_id)\n",
    "Goals <- summarise(grp, sum=sum(Goals))\n",
    "colnames(Goals) <- c(\"team_api_id\",\"goals\")\n",
    "head(Goals)"
   ]
  },
  {
   "cell_type": "markdown",
   "metadata": {},
   "source": [
    "#### Merge the above generated data frame with our main team data frame on the basis of the team_id."
   ]
  },
  {
   "cell_type": "code",
   "execution_count": 71,
   "metadata": {
    "collapsed": false
   },
   "outputs": [
    {
     "data": {
      "text/html": [
       "<table>\n",
       "<thead><tr><th scope=col>team_api_id</th><th scope=col>team_fifa_api_id</th><th scope=col>team_long_name</th><th scope=col>buildUpPlay</th><th scope=col>chanceCreation</th><th scope=col>defence</th><th scope=col>goals</th></tr></thead>\n",
       "<tbody>\n",
       "\t<tr><td>1601        </td><td>874         </td><td>Ruch Chorzów</td><td>  0         </td><td>155         </td><td>175         </td><td>280         </td></tr>\n",
       "\t<tr><td>1601        </td><td>874         </td><td>Ruch Chorzów</td><td>  0         </td><td>159         </td><td>136         </td><td>280         </td></tr>\n",
       "\t<tr><td>1601        </td><td>874         </td><td>Ruch Chorzów</td><td>  0         </td><td>186         </td><td>144         </td><td>280         </td></tr>\n",
       "\t<tr><td>1601        </td><td>874         </td><td>Ruch Chorzów</td><td>139         </td><td>181         </td><td>136         </td><td>280         </td></tr>\n",
       "\t<tr><td>1601        </td><td>874         </td><td>Ruch Chorzów</td><td>  0         </td><td>159         </td><td>136         </td><td>280         </td></tr>\n",
       "\t<tr><td>1601        </td><td>874         </td><td>Ruch Chorzów</td><td>133         </td><td>176         </td><td>136         </td><td>280         </td></tr>\n",
       "</tbody>\n",
       "</table>\n"
      ],
      "text/latex": [
       "\\begin{tabular}{r|lllllll}\n",
       " team\\_api\\_id & team\\_fifa\\_api\\_id & team\\_long\\_name & buildUpPlay & chanceCreation & defence & goals\\\\\n",
       "\\hline\n",
       "\t 1601         & 874          & Ruch Chorzów &   0          & 155          & 175          & 280         \\\\\n",
       "\t 1601         & 874          & Ruch Chorzów &   0          & 159          & 136          & 280         \\\\\n",
       "\t 1601         & 874          & Ruch Chorzów &   0          & 186          & 144          & 280         \\\\\n",
       "\t 1601         & 874          & Ruch Chorzów & 139          & 181          & 136          & 280         \\\\\n",
       "\t 1601         & 874          & Ruch Chorzów &   0          & 159          & 136          & 280         \\\\\n",
       "\t 1601         & 874          & Ruch Chorzów & 133          & 176          & 136          & 280         \\\\\n",
       "\\end{tabular}\n"
      ],
      "text/markdown": [
       "\n",
       "team_api_id | team_fifa_api_id | team_long_name | buildUpPlay | chanceCreation | defence | goals | \n",
       "|---|---|---|---|---|---|\n",
       "| 1601         | 874          | Ruch Chorzów |   0          | 155          | 175          | 280          | \n",
       "| 1601         | 874          | Ruch Chorzów |   0          | 159          | 136          | 280          | \n",
       "| 1601         | 874          | Ruch Chorzów |   0          | 186          | 144          | 280          | \n",
       "| 1601         | 874          | Ruch Chorzów | 139          | 181          | 136          | 280          | \n",
       "| 1601         | 874          | Ruch Chorzów |   0          | 159          | 136          | 280          | \n",
       "| 1601         | 874          | Ruch Chorzów | 133          | 176          | 136          | 280          | \n",
       "\n",
       "\n"
      ],
      "text/plain": [
       "  team_api_id team_fifa_api_id team_long_name buildUpPlay chanceCreation\n",
       "1 1601        874              Ruch Chorzów     0         155           \n",
       "2 1601        874              Ruch Chorzów     0         159           \n",
       "3 1601        874              Ruch Chorzów     0         186           \n",
       "4 1601        874              Ruch Chorzów   139         181           \n",
       "5 1601        874              Ruch Chorzów     0         159           \n",
       "6 1601        874              Ruch Chorzów   133         176           \n",
       "  defence goals\n",
       "1 175     280  \n",
       "2 136     280  \n",
       "3 144     280  \n",
       "4 136     280  \n",
       "5 136     280  \n",
       "6 136     280  "
      ]
     },
     "metadata": {},
     "output_type": "display_data"
    }
   ],
   "source": [
    "TeamMerge <- merge(TeamMerge,Goals,by=\"team_api_id\")\n",
    "head(TeamMerge)"
   ]
  },
  {
   "cell_type": "markdown",
   "metadata": {},
   "source": [
    "#### This above data frame is the final data frame which I will use to answer the questions and hence I save it in a csv using the function write.csv"
   ]
  },
  {
   "cell_type": "code",
   "execution_count": 72,
   "metadata": {
    "collapsed": true
   },
   "outputs": [],
   "source": [
    "write.csv(TeamMerge,file=\"team.csv\")"
   ]
  },
  {
   "cell_type": "markdown",
   "metadata": {},
   "source": [
    "#### I read the csv file of player which I created earlier and which contains the player information we need to answer the queries."
   ]
  },
  {
   "cell_type": "code",
   "execution_count": 73,
   "metadata": {
    "collapsed": true
   },
   "outputs": [],
   "source": [
    "players <- read.csv(\"player.csv\")"
   ]
  },
  {
   "cell_type": "markdown",
   "metadata": {},
   "source": [
    "#### Which are the top 10 players by overall rating?"
   ]
  },
  {
   "cell_type": "code",
   "execution_count": 74,
   "metadata": {
    "collapsed": false
   },
   "outputs": [
    {
     "data": {
      "text/html": [
       "<table>\n",
       "<thead><tr><th scope=col>player_api_id</th><th scope=col>player_name</th><th scope=col>overall_rating</th></tr></thead>\n",
       "<tbody>\n",
       "\t<tr><td>30981            </td><td>Lionel Messi     </td><td>94               </td></tr>\n",
       "\t<tr><td>30717            </td><td>Gianluigi Buffon </td><td>93               </td></tr>\n",
       "\t<tr><td>30829            </td><td>Wayne Rooney     </td><td>93               </td></tr>\n",
       "\t<tr><td>30893            </td><td>Cristiano Ronaldo</td><td>93               </td></tr>\n",
       "\t<tr><td>39854            </td><td>Xavi Hernandez   </td><td>92               </td></tr>\n",
       "\t<tr><td>39989            </td><td>Gregory Coupet   </td><td>92               </td></tr>\n",
       "\t<tr><td>30626            </td><td>Thierry Henry    </td><td>91               </td></tr>\n",
       "\t<tr><td>30627            </td><td>John Terry       </td><td>91               </td></tr>\n",
       "\t<tr><td>30657            </td><td>Iker Casillas    </td><td>91               </td></tr>\n",
       "\t<tr><td>30723            </td><td>Alessandro Nesta </td><td>91               </td></tr>\n",
       "</tbody>\n",
       "</table>\n"
      ],
      "text/latex": [
       "\\begin{tabular}{r|lll}\n",
       " player\\_api\\_id & player\\_name & overall\\_rating\\\\\n",
       "\\hline\n",
       "\t 30981             & Lionel Messi      & 94               \\\\\n",
       "\t 30717             & Gianluigi Buffon  & 93               \\\\\n",
       "\t 30829             & Wayne Rooney      & 93               \\\\\n",
       "\t 30893             & Cristiano Ronaldo & 93               \\\\\n",
       "\t 39854             & Xavi Hernandez    & 92               \\\\\n",
       "\t 39989             & Gregory Coupet    & 92               \\\\\n",
       "\t 30626             & Thierry Henry     & 91               \\\\\n",
       "\t 30627             & John Terry        & 91               \\\\\n",
       "\t 30657             & Iker Casillas     & 91               \\\\\n",
       "\t 30723             & Alessandro Nesta  & 91               \\\\\n",
       "\\end{tabular}\n"
      ],
      "text/markdown": [
       "\n",
       "player_api_id | player_name | overall_rating | \n",
       "|---|---|---|---|---|---|---|---|---|---|\n",
       "| 30981             | Lionel Messi      | 94                | \n",
       "| 30717             | Gianluigi Buffon  | 93                | \n",
       "| 30829             | Wayne Rooney      | 93                | \n",
       "| 30893             | Cristiano Ronaldo | 93                | \n",
       "| 39854             | Xavi Hernandez    | 92                | \n",
       "| 39989             | Gregory Coupet    | 92                | \n",
       "| 30626             | Thierry Henry     | 91                | \n",
       "| 30627             | John Terry        | 91                | \n",
       "| 30657             | Iker Casillas     | 91                | \n",
       "| 30723             | Alessandro Nesta  | 91                | \n",
       "\n",
       "\n"
      ],
      "text/plain": [
       "   player_api_id player_name       overall_rating\n",
       "1  30981         Lionel Messi      94            \n",
       "2  30717         Gianluigi Buffon  93            \n",
       "3  30829         Wayne Rooney      93            \n",
       "4  30893         Cristiano Ronaldo 93            \n",
       "5  39854         Xavi Hernandez    92            \n",
       "6  39989         Gregory Coupet    92            \n",
       "7  30626         Thierry Henry     91            \n",
       "8  30627         John Terry        91            \n",
       "9  30657         Iker Casillas     91            \n",
       "10 30723         Alessandro Nesta  91            "
      ]
     },
     "metadata": {},
     "output_type": "display_data"
    }
   ],
   "source": [
    "Overall <- summarise(group_by(players, player_api_id,player_name), overall_rating=max(overall_rating))\n",
    "head(arrange(Overall,desc(overall_rating)),n=10)"
   ]
  },
  {
   "cell_type": "markdown",
   "metadata": {},
   "source": [
    "#### Which are the top 10 goalkeepers by sum of gk attributes?"
   ]
  },
  {
   "cell_type": "code",
   "execution_count": 75,
   "metadata": {
    "collapsed": false
   },
   "outputs": [
    {
     "data": {
      "text/html": [
       "<table>\n",
       "<thead><tr><th scope=col>player_api_id</th><th scope=col>player_name</th><th scope=col>gk_overall</th></tr></thead>\n",
       "<tbody>\n",
       "\t<tr><td> 30717           </td><td>Gianluigi Buffon </td><td>449              </td></tr>\n",
       "\t<tr><td> 39989           </td><td>Gregory Coupet   </td><td>447              </td></tr>\n",
       "\t<tr><td> 30859           </td><td>Petr Cech        </td><td>445              </td></tr>\n",
       "\t<tr><td> 30657           </td><td>Iker Casillas    </td><td>442              </td></tr>\n",
       "\t<tr><td> 27299           </td><td>Manuel Neuer     </td><td>440              </td></tr>\n",
       "\t<tr><td> 30989           </td><td>Julio Cesar      </td><td>438              </td></tr>\n",
       "\t<tr><td> 24503           </td><td>Sebastian Frey   </td><td>437              </td></tr>\n",
       "\t<tr><td> 30726           </td><td>Edwin van der Sar</td><td>436              </td></tr>\n",
       "\t<tr><td>182917           </td><td>David De Gea     </td><td>429              </td></tr>\n",
       "\t<tr><td> 30660           </td><td>Pepe Reina       </td><td>428              </td></tr>\n",
       "</tbody>\n",
       "</table>\n"
      ],
      "text/latex": [
       "\\begin{tabular}{r|lll}\n",
       " player\\_api\\_id & player\\_name & gk\\_overall\\\\\n",
       "\\hline\n",
       "\t  30717            & Gianluigi Buffon  & 449              \\\\\n",
       "\t  39989            & Gregory Coupet    & 447              \\\\\n",
       "\t  30859            & Petr Cech         & 445              \\\\\n",
       "\t  30657            & Iker Casillas     & 442              \\\\\n",
       "\t  27299            & Manuel Neuer      & 440              \\\\\n",
       "\t  30989            & Julio Cesar       & 438              \\\\\n",
       "\t  24503            & Sebastian Frey    & 437              \\\\\n",
       "\t  30726            & Edwin van der Sar & 436              \\\\\n",
       "\t 182917            & David De Gea      & 429              \\\\\n",
       "\t  30660            & Pepe Reina        & 428              \\\\\n",
       "\\end{tabular}\n"
      ],
      "text/markdown": [
       "\n",
       "player_api_id | player_name | gk_overall | \n",
       "|---|---|---|---|---|---|---|---|---|---|\n",
       "|  30717            | Gianluigi Buffon  | 449               | \n",
       "|  39989            | Gregory Coupet    | 447               | \n",
       "|  30859            | Petr Cech         | 445               | \n",
       "|  30657            | Iker Casillas     | 442               | \n",
       "|  27299            | Manuel Neuer      | 440               | \n",
       "|  30989            | Julio Cesar       | 438               | \n",
       "|  24503            | Sebastian Frey    | 437               | \n",
       "|  30726            | Edwin van der Sar | 436               | \n",
       "| 182917            | David De Gea      | 429               | \n",
       "|  30660            | Pepe Reina        | 428               | \n",
       "\n",
       "\n"
      ],
      "text/plain": [
       "   player_api_id player_name       gk_overall\n",
       "1   30717        Gianluigi Buffon  449       \n",
       "2   39989        Gregory Coupet    447       \n",
       "3   30859        Petr Cech         445       \n",
       "4   30657        Iker Casillas     442       \n",
       "5   27299        Manuel Neuer      440       \n",
       "6   30989        Julio Cesar       438       \n",
       "7   24503        Sebastian Frey    437       \n",
       "8   30726        Edwin van der Sar 436       \n",
       "9  182917        David De Gea      429       \n",
       "10  30660        Pepe Reina        428       "
      ]
     },
     "metadata": {},
     "output_type": "display_data"
    }
   ],
   "source": [
    "Goalkeeper <- summarise(group_by(players, player_api_id,player_name), gk_overall=max(gk_overall))\n",
    "head(arrange(Goalkeeper,desc(gk_overall)),n=10)"
   ]
  },
  {
   "cell_type": "markdown",
   "metadata": {},
   "source": [
    "#### Which are the top 10 players by number of appearances (with any team they played with)?"
   ]
  },
  {
   "cell_type": "code",
   "execution_count": 76,
   "metadata": {
    "collapsed": false
   },
   "outputs": [
    {
     "data": {
      "text/html": [
       "<table>\n",
       "<thead><tr><th scope=col>player_api_id</th><th scope=col>player_name</th><th scope=col>Appearances</th></tr></thead>\n",
       "<tbody>\n",
       "\t<tr><td>31293               </td><td>Steve Mandanda      </td><td>300                 </td></tr>\n",
       "\t<tr><td>41097               </td><td>Stephane Ruffier    </td><td>294                 </td></tr>\n",
       "\t<tr><td>33764               </td><td>Gorka Iraizoz Moreno</td><td>286                 </td></tr>\n",
       "\t<tr><td>42422               </td><td>Samir Handanovic    </td><td>286                 </td></tr>\n",
       "\t<tr><td>26295               </td><td>Hugo Lloris         </td><td>282                 </td></tr>\n",
       "\t<tr><td>31465               </td><td>Tim Howard          </td><td>282                 </td></tr>\n",
       "\t<tr><td>31432               </td><td>Joe Hart            </td><td>275                 </td></tr>\n",
       "\t<tr><td>26168               </td><td>Cedric Carrasso     </td><td>268                 </td></tr>\n",
       "\t<tr><td>26399               </td><td>Daniel Congre       </td><td>262                 </td></tr>\n",
       "\t<tr><td>94550               </td><td>Moussa Sissoko      </td><td>260                 </td></tr>\n",
       "</tbody>\n",
       "</table>\n"
      ],
      "text/latex": [
       "\\begin{tabular}{r|lll}\n",
       " player\\_api\\_id & player\\_name & Appearances\\\\\n",
       "\\hline\n",
       "\t 31293                & Steve Mandanda       & 300                 \\\\\n",
       "\t 41097                & Stephane Ruffier     & 294                 \\\\\n",
       "\t 33764                & Gorka Iraizoz Moreno & 286                 \\\\\n",
       "\t 42422                & Samir Handanovic     & 286                 \\\\\n",
       "\t 26295                & Hugo Lloris          & 282                 \\\\\n",
       "\t 31465                & Tim Howard           & 282                 \\\\\n",
       "\t 31432                & Joe Hart             & 275                 \\\\\n",
       "\t 26168                & Cedric Carrasso      & 268                 \\\\\n",
       "\t 26399                & Daniel Congre        & 262                 \\\\\n",
       "\t 94550                & Moussa Sissoko       & 260                 \\\\\n",
       "\\end{tabular}\n"
      ],
      "text/markdown": [
       "\n",
       "player_api_id | player_name | Appearances | \n",
       "|---|---|---|---|---|---|---|---|---|---|\n",
       "| 31293                | Steve Mandanda       | 300                  | \n",
       "| 41097                | Stephane Ruffier     | 294                  | \n",
       "| 33764                | Gorka Iraizoz Moreno | 286                  | \n",
       "| 42422                | Samir Handanovic     | 286                  | \n",
       "| 26295                | Hugo Lloris          | 282                  | \n",
       "| 31465                | Tim Howard           | 282                  | \n",
       "| 31432                | Joe Hart             | 275                  | \n",
       "| 26168                | Cedric Carrasso      | 268                  | \n",
       "| 26399                | Daniel Congre        | 262                  | \n",
       "| 94550                | Moussa Sissoko       | 260                  | \n",
       "\n",
       "\n"
      ],
      "text/plain": [
       "   player_api_id player_name          Appearances\n",
       "1  31293         Steve Mandanda       300        \n",
       "2  41097         Stephane Ruffier     294        \n",
       "3  33764         Gorka Iraizoz Moreno 286        \n",
       "4  42422         Samir Handanovic     286        \n",
       "5  26295         Hugo Lloris          282        \n",
       "6  31465         Tim Howard           282        \n",
       "7  31432         Joe Hart             275        \n",
       "8  26168         Cedric Carrasso      268        \n",
       "9  26399         Daniel Congre        262        \n",
       "10 94550         Moussa Sissoko       260        "
      ]
     },
     "metadata": {},
     "output_type": "display_data"
    }
   ],
   "source": [
    "Appearances <- summarise(group_by(players, player_api_id,player_name), Appearances=max(No_of_matches))\n",
    "head(arrange(Appearances,desc(Appearances)),n=10)"
   ]
  },
  {
   "cell_type": "markdown",
   "metadata": {},
   "source": [
    "#### Which are the top 10 players by number of leagues they played in?"
   ]
  },
  {
   "cell_type": "code",
   "execution_count": 77,
   "metadata": {
    "collapsed": false,
    "scrolled": true
   },
   "outputs": [
    {
     "data": {
      "text/html": [
       "<table>\n",
       "<thead><tr><th scope=col>player_api_id</th><th scope=col>player_name</th><th scope=col>No_of_Leagues</th></tr></thead>\n",
       "<tbody>\n",
       "\t<tr><td> 42119               </td><td>Gelson Fernandes     </td><td>6                    </td></tr>\n",
       "\t<tr><td>116750               </td><td>Ricky van Wolfswinkel</td><td>5                    </td></tr>\n",
       "\t<tr><td>178538               </td><td>Filip Djuricic       </td><td>5                    </td></tr>\n",
       "\t<tr><td> 22543               </td><td>Radamel Falcao       </td><td>4                    </td></tr>\n",
       "\t<tr><td> 24123               </td><td>Jonathan De Guzman   </td><td>4                    </td></tr>\n",
       "\t<tr><td> 25816               </td><td>Almen Abdi           </td><td>4                    </td></tr>\n",
       "\t<tr><td> 26434               </td><td>Ibrahim Afellay      </td><td>4                    </td></tr>\n",
       "\t<tr><td> 26489               </td><td>Edson Braafheid      </td><td>4                    </td></tr>\n",
       "\t<tr><td> 26675               </td><td>Eljero Elia          </td><td>4                    </td></tr>\n",
       "\t<tr><td> 30477               </td><td>Danijel Pranjic      </td><td>4                    </td></tr>\n",
       "</tbody>\n",
       "</table>\n"
      ],
      "text/latex": [
       "\\begin{tabular}{r|lll}\n",
       " player\\_api\\_id & player\\_name & No\\_of\\_Leagues\\\\\n",
       "\\hline\n",
       "\t  42119                & Gelson Fernandes      & 6                    \\\\\n",
       "\t 116750                & Ricky van Wolfswinkel & 5                    \\\\\n",
       "\t 178538                & Filip Djuricic        & 5                    \\\\\n",
       "\t  22543                & Radamel Falcao        & 4                    \\\\\n",
       "\t  24123                & Jonathan De Guzman    & 4                    \\\\\n",
       "\t  25816                & Almen Abdi            & 4                    \\\\\n",
       "\t  26434                & Ibrahim Afellay       & 4                    \\\\\n",
       "\t  26489                & Edson Braafheid       & 4                    \\\\\n",
       "\t  26675                & Eljero Elia           & 4                    \\\\\n",
       "\t  30477                & Danijel Pranjic       & 4                    \\\\\n",
       "\\end{tabular}\n"
      ],
      "text/markdown": [
       "\n",
       "player_api_id | player_name | No_of_Leagues | \n",
       "|---|---|---|---|---|---|---|---|---|---|\n",
       "|  42119                | Gelson Fernandes      | 6                     | \n",
       "| 116750                | Ricky van Wolfswinkel | 5                     | \n",
       "| 178538                | Filip Djuricic        | 5                     | \n",
       "|  22543                | Radamel Falcao        | 4                     | \n",
       "|  24123                | Jonathan De Guzman    | 4                     | \n",
       "|  25816                | Almen Abdi            | 4                     | \n",
       "|  26434                | Ibrahim Afellay       | 4                     | \n",
       "|  26489                | Edson Braafheid       | 4                     | \n",
       "|  26675                | Eljero Elia           | 4                     | \n",
       "|  30477                | Danijel Pranjic       | 4                     | \n",
       "\n",
       "\n"
      ],
      "text/plain": [
       "   player_api_id player_name           No_of_Leagues\n",
       "1   42119        Gelson Fernandes      6            \n",
       "2  116750        Ricky van Wolfswinkel 5            \n",
       "3  178538        Filip Djuricic        5            \n",
       "4   22543        Radamel Falcao        4            \n",
       "5   24123        Jonathan De Guzman    4            \n",
       "6   25816        Almen Abdi            4            \n",
       "7   26434        Ibrahim Afellay       4            \n",
       "8   26489        Edson Braafheid       4            \n",
       "9   26675        Eljero Elia           4            \n",
       "10  30477        Danijel Pranjic       4            "
      ]
     },
     "metadata": {},
     "output_type": "display_data"
    }
   ],
   "source": [
    "Leagues <- summarise(group_by(players, player_api_id,player_name), No_of_Leagues=max(No_of_Leagues))\n",
    "head(arrange(Leagues,desc(No_of_Leagues)),n=10)"
   ]
  },
  {
   "cell_type": "markdown",
   "metadata": {},
   "source": [
    "#### I read the csv file of team which I created earlier and which contains the team information we need to answer the queries."
   ]
  },
  {
   "cell_type": "code",
   "execution_count": 78,
   "metadata": {
    "collapsed": true
   },
   "outputs": [],
   "source": [
    "team <- read.csv(\"team.csv\")"
   ]
  },
  {
   "cell_type": "markdown",
   "metadata": {},
   "source": [
    "#### Which are the top 10 teams by sum of build up play attributes?"
   ]
  },
  {
   "cell_type": "code",
   "execution_count": 79,
   "metadata": {
    "collapsed": false
   },
   "outputs": [
    {
     "data": {
      "text/html": [
       "<table>\n",
       "<thead><tr><th scope=col>team_api_id</th><th scope=col>team_long_name</th><th scope=col>buildUpPlay</th></tr></thead>\n",
       "<tbody>\n",
       "\t<tr><td>  9804                    </td><td>Torino                    </td><td>209                       </td></tr>\n",
       "\t<tr><td>  8600                    </td><td>Udinese                   </td><td>205                       </td></tr>\n",
       "\t<tr><td>  8194                    </td><td>Fortuna Düsseldorf        </td><td>198                       </td></tr>\n",
       "\t<tr><td>  8033                    </td><td>Podbeskidzie Bielsko-Biala</td><td>193                       </td></tr>\n",
       "\t<tr><td>  8245                    </td><td>Korona Kielce             </td><td>192                       </td></tr>\n",
       "\t<tr><td>  8024                    </td><td>Widzew Lódz               </td><td>190                       </td></tr>\n",
       "\t<tr><td>  8244                    </td><td>Widzew Lódz               </td><td>190                       </td></tr>\n",
       "\t<tr><td>208931                    </td><td>Carpi                     </td><td>190                       </td></tr>\n",
       "\t<tr><td>  9830                    </td><td>FC Nantes                 </td><td>189                       </td></tr>\n",
       "\t<tr><td>  7943                    </td><td>Sassuolo                  </td><td>188                       </td></tr>\n",
       "</tbody>\n",
       "</table>\n"
      ],
      "text/latex": [
       "\\begin{tabular}{r|lll}\n",
       " team\\_api\\_id & team\\_long\\_name & buildUpPlay\\\\\n",
       "\\hline\n",
       "\t   9804                     & Torino                     & 209                       \\\\\n",
       "\t   8600                     & Udinese                    & 205                       \\\\\n",
       "\t   8194                     & Fortuna Düsseldorf         & 198                       \\\\\n",
       "\t   8033                     & Podbeskidzie Bielsko-Biala & 193                       \\\\\n",
       "\t   8245                     & Korona Kielce              & 192                       \\\\\n",
       "\t   8024                     & Widzew Lódz                & 190                       \\\\\n",
       "\t   8244                     & Widzew Lódz                & 190                       \\\\\n",
       "\t 208931                     & Carpi                      & 190                       \\\\\n",
       "\t   9830                     & FC Nantes                  & 189                       \\\\\n",
       "\t   7943                     & Sassuolo                   & 188                       \\\\\n",
       "\\end{tabular}\n"
      ],
      "text/markdown": [
       "\n",
       "team_api_id | team_long_name | buildUpPlay | \n",
       "|---|---|---|---|---|---|---|---|---|---|\n",
       "|   9804                     | Torino                     | 209                        | \n",
       "|   8600                     | Udinese                    | 205                        | \n",
       "|   8194                     | Fortuna Düsseldorf         | 198                        | \n",
       "|   8033                     | Podbeskidzie Bielsko-Biala | 193                        | \n",
       "|   8245                     | Korona Kielce              | 192                        | \n",
       "|   8024                     | Widzew Lódz                | 190                        | \n",
       "|   8244                     | Widzew Lódz                | 190                        | \n",
       "| 208931                     | Carpi                      | 190                        | \n",
       "|   9830                     | FC Nantes                  | 189                        | \n",
       "|   7943                     | Sassuolo                   | 188                        | \n",
       "\n",
       "\n"
      ],
      "text/plain": [
       "   team_api_id team_long_name             buildUpPlay\n",
       "1    9804      Torino                     209        \n",
       "2    8600      Udinese                    205        \n",
       "3    8194      Fortuna Düsseldorf         198        \n",
       "4    8033      Podbeskidzie Bielsko-Biala 193        \n",
       "5    8245      Korona Kielce              192        \n",
       "6    8024      Widzew Lódz                190        \n",
       "7    8244      Widzew Lódz                190        \n",
       "8  208931      Carpi                      190        \n",
       "9    9830      FC Nantes                  189        \n",
       "10   7943      Sassuolo                   188        "
      ]
     },
     "metadata": {},
     "output_type": "display_data"
    }
   ],
   "source": [
    "Build_Up_Play <- summarise(group_by(team, team_api_id,team_long_name), buildUpPlay=max(buildUpPlay))\n",
    "head(arrange(Build_Up_Play,desc(buildUpPlay)),n=10)"
   ]
  },
  {
   "cell_type": "markdown",
   "metadata": {},
   "source": [
    "#### Which are the top 10 teams by sum of chance creation attributes?"
   ]
  },
  {
   "cell_type": "code",
   "execution_count": 80,
   "metadata": {
    "collapsed": false
   },
   "outputs": [
    {
     "data": {
      "text/html": [
       "<table>\n",
       "<thead><tr><th scope=col>team_api_id</th><th scope=col>team_long_name</th><th scope=col>chanceCreation</th></tr></thead>\n",
       "<tbody>\n",
       "\t<tr><td>8543               </td><td>Lazio              </td><td>220                </td></tr>\n",
       "\t<tr><td>8697               </td><td>SV Werder Bremen   </td><td>216                </td></tr>\n",
       "\t<tr><td>9875               </td><td>Napoli             </td><td>215                </td></tr>\n",
       "\t<tr><td>8178               </td><td>Bayer 04 Leverkusen</td><td>210                </td></tr>\n",
       "\t<tr><td>8191               </td><td>Burnley            </td><td>210                </td></tr>\n",
       "\t<tr><td>8344               </td><td>Cardiff City       </td><td>210                </td></tr>\n",
       "\t<tr><td>8456               </td><td>Manchester City    </td><td>210                </td></tr>\n",
       "\t<tr><td>8485               </td><td>Aberdeen           </td><td>210                </td></tr>\n",
       "\t<tr><td>8548               </td><td>Rangers            </td><td>210                </td></tr>\n",
       "\t<tr><td>8586               </td><td>Tottenham Hotspur  </td><td>210                </td></tr>\n",
       "</tbody>\n",
       "</table>\n"
      ],
      "text/latex": [
       "\\begin{tabular}{r|lll}\n",
       " team\\_api\\_id & team\\_long\\_name & chanceCreation\\\\\n",
       "\\hline\n",
       "\t 8543                & Lazio               & 220                \\\\\n",
       "\t 8697                & SV Werder Bremen    & 216                \\\\\n",
       "\t 9875                & Napoli              & 215                \\\\\n",
       "\t 8178                & Bayer 04 Leverkusen & 210                \\\\\n",
       "\t 8191                & Burnley             & 210                \\\\\n",
       "\t 8344                & Cardiff City        & 210                \\\\\n",
       "\t 8456                & Manchester City     & 210                \\\\\n",
       "\t 8485                & Aberdeen            & 210                \\\\\n",
       "\t 8548                & Rangers             & 210                \\\\\n",
       "\t 8586                & Tottenham Hotspur   & 210                \\\\\n",
       "\\end{tabular}\n"
      ],
      "text/markdown": [
       "\n",
       "team_api_id | team_long_name | chanceCreation | \n",
       "|---|---|---|---|---|---|---|---|---|---|\n",
       "| 8543                | Lazio               | 220                 | \n",
       "| 8697                | SV Werder Bremen    | 216                 | \n",
       "| 9875                | Napoli              | 215                 | \n",
       "| 8178                | Bayer 04 Leverkusen | 210                 | \n",
       "| 8191                | Burnley             | 210                 | \n",
       "| 8344                | Cardiff City        | 210                 | \n",
       "| 8456                | Manchester City     | 210                 | \n",
       "| 8485                | Aberdeen            | 210                 | \n",
       "| 8548                | Rangers             | 210                 | \n",
       "| 8586                | Tottenham Hotspur   | 210                 | \n",
       "\n",
       "\n"
      ],
      "text/plain": [
       "   team_api_id team_long_name      chanceCreation\n",
       "1  8543        Lazio               220           \n",
       "2  8697        SV Werder Bremen    216           \n",
       "3  9875        Napoli              215           \n",
       "4  8178        Bayer 04 Leverkusen 210           \n",
       "5  8191        Burnley             210           \n",
       "6  8344        Cardiff City        210           \n",
       "7  8456        Manchester City     210           \n",
       "8  8485        Aberdeen            210           \n",
       "9  8548        Rangers             210           \n",
       "10 8586        Tottenham Hotspur   210           "
      ]
     },
     "metadata": {},
     "output_type": "display_data"
    }
   ],
   "source": [
    "Chance_Creation <- summarise(group_by(team, team_api_id,team_long_name), chanceCreation=max(chanceCreation))\n",
    "head(arrange(Chance_Creation,desc(chanceCreation)),n=10)"
   ]
  },
  {
   "cell_type": "markdown",
   "metadata": {},
   "source": [
    "#### Which are the top 10 teams by sum of defense attributes?"
   ]
  },
  {
   "cell_type": "code",
   "execution_count": 81,
   "metadata": {
    "collapsed": false
   },
   "outputs": [
    {
     "data": {
      "text/html": [
       "<table>\n",
       "<thead><tr><th scope=col>team_api_id</th><th scope=col>team_long_name</th><th scope=col>defence</th></tr></thead>\n",
       "<tbody>\n",
       "\t<tr><td>1957                 </td><td>Jagiellonia Bialystok</td><td>210                  </td></tr>\n",
       "\t<tr><td>7794                 </td><td>SC Bastia            </td><td>210                  </td></tr>\n",
       "\t<tr><td>8021                 </td><td>Zaglebie Lubin       </td><td>210                  </td></tr>\n",
       "\t<tr><td>8197                 </td><td>Leicester City       </td><td>210                  </td></tr>\n",
       "\t<tr><td>8344                 </td><td>Cardiff City         </td><td>210                  </td></tr>\n",
       "\t<tr><td>8350                 </td><td>1. FC Kaiserslautern </td><td>210                  </td></tr>\n",
       "\t<tr><td>8466                 </td><td>Southampton          </td><td>210                  </td></tr>\n",
       "\t<tr><td>8481                 </td><td>AS Nancy-Lorraine    </td><td>210                  </td></tr>\n",
       "\t<tr><td>8483                 </td><td>Blackpool            </td><td>210                  </td></tr>\n",
       "\t<tr><td>8521                 </td><td>Stade Brestois 29    </td><td>210                  </td></tr>\n",
       "</tbody>\n",
       "</table>\n"
      ],
      "text/latex": [
       "\\begin{tabular}{r|lll}\n",
       " team\\_api\\_id & team\\_long\\_name & defence\\\\\n",
       "\\hline\n",
       "\t 1957                  & Jagiellonia Bialystok & 210                  \\\\\n",
       "\t 7794                  & SC Bastia             & 210                  \\\\\n",
       "\t 8021                  & Zaglebie Lubin        & 210                  \\\\\n",
       "\t 8197                  & Leicester City        & 210                  \\\\\n",
       "\t 8344                  & Cardiff City          & 210                  \\\\\n",
       "\t 8350                  & 1. FC Kaiserslautern  & 210                  \\\\\n",
       "\t 8466                  & Southampton           & 210                  \\\\\n",
       "\t 8481                  & AS Nancy-Lorraine     & 210                  \\\\\n",
       "\t 8483                  & Blackpool             & 210                  \\\\\n",
       "\t 8521                  & Stade Brestois 29     & 210                  \\\\\n",
       "\\end{tabular}\n"
      ],
      "text/markdown": [
       "\n",
       "team_api_id | team_long_name | defence | \n",
       "|---|---|---|---|---|---|---|---|---|---|\n",
       "| 1957                  | Jagiellonia Bialystok | 210                   | \n",
       "| 7794                  | SC Bastia             | 210                   | \n",
       "| 8021                  | Zaglebie Lubin        | 210                   | \n",
       "| 8197                  | Leicester City        | 210                   | \n",
       "| 8344                  | Cardiff City          | 210                   | \n",
       "| 8350                  | 1. FC Kaiserslautern  | 210                   | \n",
       "| 8466                  | Southampton           | 210                   | \n",
       "| 8481                  | AS Nancy-Lorraine     | 210                   | \n",
       "| 8483                  | Blackpool             | 210                   | \n",
       "| 8521                  | Stade Brestois 29     | 210                   | \n",
       "\n",
       "\n"
      ],
      "text/plain": [
       "   team_api_id team_long_name        defence\n",
       "1  1957        Jagiellonia Bialystok 210    \n",
       "2  7794        SC Bastia             210    \n",
       "3  8021        Zaglebie Lubin        210    \n",
       "4  8197        Leicester City        210    \n",
       "5  8344        Cardiff City          210    \n",
       "6  8350        1. FC Kaiserslautern  210    \n",
       "7  8466        Southampton           210    \n",
       "8  8481        AS Nancy-Lorraine     210    \n",
       "9  8483        Blackpool             210    \n",
       "10 8521        Stade Brestois 29     210    "
      ]
     },
     "metadata": {},
     "output_type": "display_data"
    }
   ],
   "source": [
    "Defence <- summarise(group_by(team, team_api_id,team_long_name), defence=max(defence))\n",
    "head(arrange(Defence,desc(defence)),n=10)"
   ]
  },
  {
   "cell_type": "markdown",
   "metadata": {},
   "source": [
    "#### Which are the top 10 teams by number of scored goals?"
   ]
  },
  {
   "cell_type": "code",
   "execution_count": 82,
   "metadata": {
    "collapsed": false,
    "scrolled": true
   },
   "outputs": [
    {
     "data": {
      "text/html": [
       "<table>\n",
       "<thead><tr><th scope=col>team_api_id</th><th scope=col>team_long_name</th><th scope=col>goals</th></tr></thead>\n",
       "<tbody>\n",
       "\t<tr><td> 8634            </td><td>FC Barcelona     </td><td>849              </td></tr>\n",
       "\t<tr><td> 8633            </td><td>Real Madrid CF   </td><td>843              </td></tr>\n",
       "\t<tr><td> 9925            </td><td>Celtic           </td><td>695              </td></tr>\n",
       "\t<tr><td> 9823            </td><td>FC Bayern Munich </td><td>653              </td></tr>\n",
       "\t<tr><td> 8640            </td><td>PSV              </td><td>652              </td></tr>\n",
       "\t<tr><td> 8593            </td><td>Ajax             </td><td>647              </td></tr>\n",
       "\t<tr><td> 9931            </td><td>FC Basel         </td><td>619              </td></tr>\n",
       "\t<tr><td> 8456            </td><td>Manchester City  </td><td>606              </td></tr>\n",
       "\t<tr><td> 8455            </td><td>Chelsea          </td><td>583              </td></tr>\n",
       "\t<tr><td>10260            </td><td>Manchester United</td><td>582              </td></tr>\n",
       "</tbody>\n",
       "</table>\n"
      ],
      "text/latex": [
       "\\begin{tabular}{r|lll}\n",
       " team\\_api\\_id & team\\_long\\_name & goals\\\\\n",
       "\\hline\n",
       "\t  8634             & FC Barcelona      & 849              \\\\\n",
       "\t  8633             & Real Madrid CF    & 843              \\\\\n",
       "\t  9925             & Celtic            & 695              \\\\\n",
       "\t  9823             & FC Bayern Munich  & 653              \\\\\n",
       "\t  8640             & PSV               & 652              \\\\\n",
       "\t  8593             & Ajax              & 647              \\\\\n",
       "\t  9931             & FC Basel          & 619              \\\\\n",
       "\t  8456             & Manchester City   & 606              \\\\\n",
       "\t  8455             & Chelsea           & 583              \\\\\n",
       "\t 10260             & Manchester United & 582              \\\\\n",
       "\\end{tabular}\n"
      ],
      "text/markdown": [
       "\n",
       "team_api_id | team_long_name | goals | \n",
       "|---|---|---|---|---|---|---|---|---|---|\n",
       "|  8634             | FC Barcelona      | 849               | \n",
       "|  8633             | Real Madrid CF    | 843               | \n",
       "|  9925             | Celtic            | 695               | \n",
       "|  9823             | FC Bayern Munich  | 653               | \n",
       "|  8640             | PSV               | 652               | \n",
       "|  8593             | Ajax              | 647               | \n",
       "|  9931             | FC Basel          | 619               | \n",
       "|  8456             | Manchester City   | 606               | \n",
       "|  8455             | Chelsea           | 583               | \n",
       "| 10260             | Manchester United | 582               | \n",
       "\n",
       "\n"
      ],
      "text/plain": [
       "   team_api_id team_long_name    goals\n",
       "1   8634       FC Barcelona      849  \n",
       "2   8633       Real Madrid CF    843  \n",
       "3   9925       Celtic            695  \n",
       "4   9823       FC Bayern Munich  653  \n",
       "5   8640       PSV               652  \n",
       "6   8593       Ajax              647  \n",
       "7   9931       FC Basel          619  \n",
       "8   8456       Manchester City   606  \n",
       "9   8455       Chelsea           583  \n",
       "10 10260       Manchester United 582  "
      ]
     },
     "metadata": {},
     "output_type": "display_data"
    }
   ],
   "source": [
    "Total_Goals <- summarise(group_by(team, team_api_id,team_long_name), goals=max(goals))\n",
    "head(arrange(Total_Goals,desc(goals)),n=10)"
   ]
  },
  {
   "cell_type": "code",
   "execution_count": null,
   "metadata": {
    "collapsed": true
   },
   "outputs": [],
   "source": []
  }
 ],
 "metadata": {
  "anaconda-cloud": {},
  "kernelspec": {
   "display_name": "R",
   "language": "R",
   "name": "ir"
  },
  "language_info": {
   "codemirror_mode": "r",
   "file_extension": ".r",
   "mimetype": "text/x-r-source",
   "name": "R",
   "pygments_lexer": "r",
   "version": "3.3.2"
  }
 },
 "nbformat": 4,
 "nbformat_minor": 1
}
